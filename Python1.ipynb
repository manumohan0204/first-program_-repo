{
  "nbformat": 4,
  "nbformat_minor": 0,
  "metadata": {
    "colab": {
      "provenance": [],
      "authorship_tag": "ABX9TyP6diZSU2kLSzUczZulcqK7",
      "include_colab_link": true
    },
    "kernelspec": {
      "name": "python3",
      "display_name": "Python 3"
    },
    "language_info": {
      "name": "python"
    }
  },
  "cells": [
    {
      "cell_type": "markdown",
      "metadata": {
        "id": "view-in-github",
        "colab_type": "text"
      },
      "source": [
        "<a href=\"https://colab.research.google.com/github/manumohan0204/first-program_-repo/blob/main/Python1.ipynb\" target=\"_parent\"><img src=\"https://colab.research.google.com/assets/colab-badge.svg\" alt=\"Open In Colab\"/></a>"
      ]
    },
    {
      "cell_type": "code",
      "execution_count": 3,
      "metadata": {
        "colab": {
          "base_uri": "https://localhost:8080/"
        },
        "id": "IFdVWI9DRvtf",
        "outputId": "a200a78d-d04d-47fa-bfc8-9f6a019ea3d0"
      },
      "outputs": [
        {
          "output_type": "stream",
          "name": "stdout",
          "text": [
            "Enter first number12\n",
            "Enter second number13\n",
            "The sum is %f: 25.0\n"
          ]
        }
      ],
      "source": [
        "num1=input('Enter first number')\n",
        "num2=input(\"Enter second number\")\n",
        "sum=float(num1)+float(num2)\n",
        "print(\"The sum is %f:\",sum)"
      ]
    },
    {
      "cell_type": "code",
      "source": [
        "y=bool(\"yes\")\n",
        "print(type(y))"
      ],
      "metadata": {
        "colab": {
          "base_uri": "https://localhost:8080/"
        },
        "id": "0uXG_ihLT2EN",
        "outputId": "1fc49331-c315-42b5-98f8-2c5f8580334b"
      },
      "execution_count": 4,
      "outputs": [
        {
          "output_type": "stream",
          "name": "stdout",
          "text": [
            "<class 'bool'>\n"
          ]
        }
      ]
    },
    {
      "cell_type": "code",
      "source": [
        "a= float(input(\"Enter a number:\"))\n",
        "b= float(input(\"Enter a number:\"))\n",
        "c= float(input(\"Enter a number:\"))\n",
        "s=(a+b+c)/2\n",
        "area=(s*(s-a)*(s-b)*(s-c))**0.5\n",
        "print(\"Area of the triangle is:%f\",area)\n",
        "\n",
        "\n",
        "\n"
      ],
      "metadata": {
        "colab": {
          "base_uri": "https://localhost:8080/"
        },
        "id": "5LwD1vMHUJDU",
        "outputId": "e703d4f0-1984-48da-b2bc-e8f473223af7"
      },
      "execution_count": 22,
      "outputs": [
        {
          "output_type": "stream",
          "name": "stdout",
          "text": [
            "Enter a number:5\n",
            "Enter a number:6\n",
            "Enter a number:7\n",
            "Area of the triangle is:%f 14.696938456699069\n"
          ]
        }
      ]
    },
    {
      "cell_type": "code",
      "source": [
        "m = int(input(\"Enter a month between 1 and 12\"))\n",
        "y= int(input(\"enter the year\"))\n",
        "if(m==1 or m==3 or m==5 or m==7 or m==9 or m==11):\n",
        "  {\n",
        "      print(\"Number of days in the month are 31\")\n",
        "  }\n",
        "elif( m==4 or m==6 or m==8 or m==10 or m==12):\n",
        "  {\n",
        "      print(\"Number of days in the month are 30\")\n",
        "  }\n",
        "elif(m==2):\n",
        "  if(y%4==0 or y%100==0 or y%400==0):\n",
        "    print(\"Number of days are 29\")\n",
        "  else:\n",
        "    print(\" Number of days are 28\")\n",
        "else:\n",
        "  print(\"Number of days in the month are 29\")\n",
        "\n",
        "\n",
        "\n"
      ],
      "metadata": {
        "colab": {
          "base_uri": "https://localhost:8080/"
        },
        "id": "LV76H0v6W7GU",
        "outputId": "6fea0fa9-fb20-40d1-980d-e6d0c2a7ce5b"
      },
      "execution_count": 30,
      "outputs": [
        {
          "output_type": "stream",
          "name": "stdout",
          "text": [
            "Enter a month between 1 and 127\n",
            "enter the year2020\n",
            "Number of days in the month are 31\n"
          ]
        }
      ]
    },
    {
      "cell_type": "markdown",
      "source": [
        "Python has no additional commands to declare a variable."
      ],
      "metadata": {
        "id": "Gb_t2abnUbu8"
      }
    },
    {
      "cell_type": "markdown",
      "source": [
        "As soon as the value is assigned to it the variable is declared. There are certain rules to keep in mind while declaring the variable. The variable name cant start with a number. The variable in python\n",
        "are case sensitive.\n",
        "They can contain only alpha numeric characters and underscore.\n",
        "No special characters are allowed.\n",
        "lists is one of the 4 collection datatype that we have in python. When we are choosing a collection type it is important to understand the functionality and the limitation of the collection.\n",
        "Tuple set and dictionary are the other collecction datatype of python. List is a ordered and changeable unlike strings we can add duplicate values, a list is declared using sqaure brackets"
      ],
      "metadata": {
        "id": "0JwCaTEfV8xT"
      }
    }
  ]
}